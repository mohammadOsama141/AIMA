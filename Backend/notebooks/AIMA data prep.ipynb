{
 "cells": [
  {
   "cell_type": "code",
   "execution_count": 1,
   "id": "27b02c88",
   "metadata": {},
   "outputs": [],
   "source": [
    "from PIL import Image"
   ]
  },
  {
   "cell_type": "code",
   "execution_count": 3,
   "id": "2e2cd9a2",
   "metadata": {},
   "outputs": [],
   "source": [
    "image = Image.open('C:\\\\Users\\\\PC\\\\OneDrive\\\\Desktop\\\\46.jpg')\n",
    "new_image = image.resize((512, 512))\n",
    "new_image.save('C:\\\\Users\\\\PC\\\\OneDrive\\\\Desktop\\\\myimage_500.jpg')"
   ]
  },
  {
   "cell_type": "code",
   "execution_count": null,
   "id": "962619c1",
   "metadata": {},
   "outputs": [],
   "source": [
    "C:\\Users\\PC\\OneDrive\\Desktop\\50_imgs\\data v1\\resise\\\n",
    "    \n",
    "    \n",
    "C:\\Users\\PC\\OneDrive\\Desktop\\50_imgs\\data v1\\resizedddd\\"
   ]
  },
  {
   "cell_type": "markdown",
   "id": "c6e42870",
   "metadata": {},
   "source": [
    "# Image resizing to 512x512"
   ]
  },
  {
   "cell_type": "code",
   "execution_count": 4,
   "id": "534bfa17",
   "metadata": {},
   "outputs": [],
   "source": [
    "import os\n",
    "from PIL import Image"
   ]
  },
  {
   "cell_type": "code",
   "execution_count": 7,
   "id": "8ae58b3f",
   "metadata": {},
   "outputs": [],
   "source": [
    "# Source and destination directories\n",
    "source_dir = 'C:\\\\Users\\\\PC\\\\OneDrive\\\\Desktop\\\\50_imgs\\\\data v1\\\\resise\\\\'\n",
    "destination_dir = 'C:\\\\Users\\\\PC\\\\OneDrive\\\\Desktop\\\\50_imgs\\\\data v1\\\\resizedddd\\\\'"
   ]
  },
  {
   "cell_type": "code",
   "execution_count": 9,
   "id": "9bb1dc3d",
   "metadata": {},
   "outputs": [
    {
     "name": "stdout",
     "output_type": "stream",
     "text": [
      "Images resized and saved successfully.\n"
     ]
    }
   ],
   "source": [
    "\n",
    "# Iterate over files in the source directory\n",
    "for filename in os.listdir(source_dir):\n",
    "    if filename.endswith('.jpg') or filename.endswith('.jpeg') or filename.endswith('.png') or filename.endswith('.PNG'):\n",
    "        # Open the image\n",
    "        image_path = os.path.join(source_dir, filename)\n",
    "        image = Image.open(image_path)\n",
    "        \n",
    "        # Convert the image to RGB mode if it's in RGBA mode\n",
    "        if image.mode == 'RGBA':\n",
    "            image = image.convert('RGB')\n",
    "        \n",
    "        # Resize the image\n",
    "        new_image = image.resize((512, 512))\n",
    "        \n",
    "        # Save the resized image to the destination directory\n",
    "        new_filename = os.path.splitext(filename)[0] + '_resized.jpg'\n",
    "        destination_path = os.path.join(destination_dir, new_filename)\n",
    "        new_image.save(destination_path)\n",
    "\n",
    "print(\"Images resized and saved successfully.\")"
   ]
  },
  {
   "cell_type": "markdown",
   "id": "edc2e450",
   "metadata": {},
   "source": [
    "# txt file making"
   ]
  },
  {
   "cell_type": "code",
   "execution_count": 10,
   "id": "f400af72",
   "metadata": {},
   "outputs": [],
   "source": [
    "import csv\n",
    "import os"
   ]
  },
  {
   "cell_type": "code",
   "execution_count": 11,
   "id": "7ba578e9",
   "metadata": {},
   "outputs": [],
   "source": [
    "# Path to the CSV file\n",
    "csv_file = 'C:\\\\Users\\\\PC\\\\OneDrive\\\\Desktop\\\\50_imgs\\\\data v2 - Sheet1.csv'\n",
    "# Directory to save the text files\n",
    "output_dir = 'C:\\\\Users\\\\PC\\\\OneDrive\\\\Desktop\\\\50_imgs\\\\data_v2_text_files\\\\'"
   ]
  },
  {
   "cell_type": "code",
   "execution_count": 12,
   "id": "b98ccfcf",
   "metadata": {},
   "outputs": [
    {
     "name": "stdout",
     "output_type": "stream",
     "text": [
      "Text files created successfully.\n"
     ]
    }
   ],
   "source": [
    "# Create the output directory if it doesn't exist\n",
    "os.makedirs(output_dir, exist_ok=True)\n",
    "\n",
    "# Read the CSV file and create text files\n",
    "with open(csv_file, newline='', encoding='utf-8') as csvfile:\n",
    "    reader = csv.reader(csvfile)\n",
    "    # Skip the header row if exists\n",
    "    next(reader, None)\n",
    "    \n",
    "    for row in reader:\n",
    "        # Extract data from the row\n",
    "        filename = row[0] + '.txt'  # Use the first column as the filename\n",
    "        content = row[1]  # Use the second column as the content\n",
    "        \n",
    "        # Create the text file and write content to it\n",
    "        with open(os.path.join(output_dir, filename), 'w', encoding='utf-8') as txtfile:\n",
    "            txtfile.write(content)\n",
    "\n",
    "print(\"Text files created successfully.\")"
   ]
  }
 ],
 "metadata": {
  "kernelspec": {
   "display_name": "Python 3 (ipykernel)",
   "language": "python",
   "name": "python3"
  },
  "language_info": {
   "codemirror_mode": {
    "name": "ipython",
    "version": 3
   },
   "file_extension": ".py",
   "mimetype": "text/x-python",
   "name": "python",
   "nbconvert_exporter": "python",
   "pygments_lexer": "ipython3",
   "version": "3.11.5"
  }
 },
 "nbformat": 4,
 "nbformat_minor": 5
}
